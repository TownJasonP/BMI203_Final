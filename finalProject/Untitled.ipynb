{
 "cells": [
  {
   "cell_type": "code",
   "execution_count": 217,
   "metadata": {
    "collapsed": false
   },
   "outputs": [],
   "source": [
    "'''\n",
    "Set up the learning procedure to allow DNA sequences as input and\n",
    "to produce an output of the likelihood that an input is a true Rap1\n",
    "binding site. You will want the output value to be a real number no\n",
    "matter what method you are using, since your performance on the blind\n",
    "test set will be judged based on the area under an ROC curve. So,\n",
    "please DO NOT threshold your output to produce a binary value.\n",
    "\n",
    "\t- As mentioned above, you may use your ANN implementation.\n",
    "    Many very successful projects have done so in the past. However,\n",
    "    you may also use KNN, SVM, random forests, or any other approach\n",
    "    that you see fit.\n",
    "\n",
    "\t- Describe the machine learning approach in detail. This will include,\n",
    "    for an ANN, a description of the network structure of your encodings\n",
    "    of inputs and output. For an SVM, you will need to discuss input\n",
    "    encoding as well as kernel function choices, etc... This will also\n",
    "    include a description of the representation you have chosen for the\n",
    "    input DNA sequences.\n",
    "\n",
    "'''\n",
    "import numpy as np\n",
    "import keras\n",
    "\n",
    "# define reverse complements to expand positive binding site data set\n",
    "def reverse_complement(sequence):\n",
    "    comp_nucleotide = {'A':'T', 'T':'A', 'C':'G', 'G':'C'}\n",
    "    rev_seq = ''\n",
    "    for nuc in sequence[::-1]:\n",
    "        rev_seq += comp_nucleotide[nuc]\n",
    "    return(rev_seq)\n",
    "    \n",
    "# import positive dna sequences and their reverse complements\n",
    "filepath_rap_pos = '../data/rap1-lieb-positives.txt'\n",
    "rap_pos = []\n",
    "text_rap_pos = open(filepath_rap_pos)\n",
    "for line in text_rap_pos:\n",
    "    sequence = line.strip()\n",
    "    rap_pos.append(sequence)\n",
    "    rap_pos.append(reverse_complement(sequence))\n",
    "\n",
    "# import negative binding sequences - we probably don't really need all of this\n",
    "# data since we only have 137 positive examples, so just take the first 17\n",
    "# nucleotides from each sequence\n",
    "filepath_rap_neg = '../data/yeast-upstream-1k-negative.fa'\n",
    "rap_neg = []\n",
    "text_rap_neg = open(filepath_rap_neg)\n",
    "for line in text_rap_neg:\n",
    "    if line[0] != '>':\n",
    "        sequence = line.strip()[0:17]\n",
    "        if len(sequence) == 17:\n",
    "            rap_neg.append(sequence)\n",
    "\n",
    "# make sure there is no overlap (this should remove 2 sequences from rap_neg)\n",
    "overlap = 0\n",
    "for i in rap_neg:\n",
    "    if i in rap_pos:\n",
    "        rap_neg.remove(i)\n",
    "\n",
    "# convert dna sequences to a numerically encoded form\n",
    "numerical_seq = {'A':[1,0,0,0],'T':[0,1,0,0],'C':[0,0,1,0],'G':[0,0,0,1]}\n",
    "\n",
    "def let_to_num(a_sequence_collection):\n",
    "    n = len(a_sequence_collection)\n",
    "    num_sequence = np.zeros((n, 17, 4))\n",
    "    for i in range(n):\n",
    "        for j in range(17):\n",
    "            nuc = a_sequence_collection[i][j]\n",
    "            num_sequence[i][j] = numerical_seq[nuc]\n",
    "    return(num_sequence)\n",
    "    \n",
    "\n",
    "rap_pos_num = let_to_num(rap_pos)\n",
    "rap_neg_num = let_to_num(rap_neg)\n",
    "\n",
    "np.save('../output/rap_positives', rap_pos_num)\n",
    "np.save('../output/rap_negatives', rap_neg_num)\n"
   ]
  },
  {
   "cell_type": "code",
   "execution_count": 282,
   "metadata": {
    "collapsed": false
   },
   "outputs": [
    {
     "data": {
      "text/plain": [
       "(274, 17, 4)"
      ]
     },
     "execution_count": 282,
     "metadata": {},
     "output_type": "execute_result"
    }
   ],
   "source": [
    "rap_pos_num.shape"
   ]
  },
  {
   "cell_type": "code",
   "execution_count": 326,
   "metadata": {
    "collapsed": false
   },
   "outputs": [
    {
     "ename": "SyntaxError",
     "evalue": "invalid syntax (<ipython-input-326-12b6448ef388>, line 6)",
     "output_type": "error",
     "traceback": [
      "\u001b[0;36m  File \u001b[0;32m\"<ipython-input-326-12b6448ef388>\"\u001b[0;36m, line \u001b[0;32m6\u001b[0m\n\u001b[0;31m    from keras.layers import Dense, Activation, 1DConvolution\u001b[0m\n\u001b[0m                                                ^\u001b[0m\n\u001b[0;31mSyntaxError\u001b[0m\u001b[0;31m:\u001b[0m invalid syntax\n"
     ]
    }
   ],
   "source": [
    "'''\n",
    "Create a neural network using Keras (faster, more flexible and probably more\n",
    "reliable that what I've written in nn_Q1.py)\n",
    "'''\n",
    "from keras.models import Sequential\n",
    "from keras.layers import Dense, Activation, 1DConvolution\n",
    "from keras.utils.np_utils import to_categorical"
   ]
  },
  {
   "cell_type": "code",
   "execution_count": 335,
   "metadata": {
    "collapsed": false,
    "scrolled": false
   },
   "outputs": [
    {
     "name": "stdout",
     "output_type": "stream",
     "text": [
      "Epoch 1/100\n",
      "548/548 [==============================] - 0s - loss: 0.2526     \n",
      "Epoch 2/100\n",
      "548/548 [==============================] - 0s - loss: 0.2521     \n",
      "Epoch 3/100\n",
      "548/548 [==============================] - 0s - loss: 0.2517     \n",
      "Epoch 4/100\n",
      "548/548 [==============================] - 0s - loss: 0.2513     \n",
      "Epoch 5/100\n",
      "548/548 [==============================] - 0s - loss: 0.2511     \n",
      "Epoch 6/100\n",
      "548/548 [==============================] - 0s - loss: 0.2509     \n",
      "Epoch 7/100\n",
      "548/548 [==============================] - 0s - loss: 0.2508     \n",
      "Epoch 8/100\n",
      "548/548 [==============================] - 0s - loss: 0.2505     \n",
      "Epoch 9/100\n",
      "548/548 [==============================] - 0s - loss: 0.2503     \n",
      "Epoch 10/100\n",
      "548/548 [==============================] - 0s - loss: 0.2501     \n",
      "Epoch 11/100\n",
      "548/548 [==============================] - 0s - loss: 0.2500     \n",
      "Epoch 12/100\n",
      "548/548 [==============================] - 0s - loss: 0.2498     \n",
      "Epoch 13/100\n",
      "548/548 [==============================] - 0s - loss: 0.2496     \n",
      "Epoch 14/100\n",
      "548/548 [==============================] - 0s - loss: 0.2495     \n",
      "Epoch 15/100\n",
      "548/548 [==============================] - 0s - loss: 0.2493     \n",
      "Epoch 16/100\n",
      "548/548 [==============================] - 0s - loss: 0.2492     \n",
      "Epoch 17/100\n",
      "548/548 [==============================] - 0s - loss: 0.2491     \n",
      "Epoch 18/100\n",
      "548/548 [==============================] - 0s - loss: 0.2490     \n",
      "Epoch 19/100\n",
      "548/548 [==============================] - 0s - loss: 0.2489     \n",
      "Epoch 20/100\n",
      "548/548 [==============================] - 0s - loss: 0.2488     \n",
      "Epoch 21/100\n",
      "548/548 [==============================] - 0s - loss: 0.2487     \n",
      "Epoch 22/100\n",
      "548/548 [==============================] - 0s - loss: 0.2486     \n",
      "Epoch 23/100\n",
      "548/548 [==============================] - 0s - loss: 0.2485     \n",
      "Epoch 24/100\n",
      "548/548 [==============================] - 0s - loss: 0.2484     \n",
      "Epoch 25/100\n",
      "548/548 [==============================] - 0s - loss: 0.2483     \n",
      "Epoch 26/100\n",
      "548/548 [==============================] - 0s - loss: 0.2482     \n",
      "Epoch 27/100\n",
      "548/548 [==============================] - 0s - loss: 0.2481     \n",
      "Epoch 28/100\n",
      "548/548 [==============================] - 0s - loss: 0.2480     \n",
      "Epoch 29/100\n",
      "548/548 [==============================] - 0s - loss: 0.2479     \n",
      "Epoch 30/100\n",
      "548/548 [==============================] - 0s - loss: 0.2478     \n",
      "Epoch 31/100\n",
      "548/548 [==============================] - 0s - loss: 0.2476     \n",
      "Epoch 32/100\n",
      "548/548 [==============================] - 0s - loss: 0.2475     \n",
      "Epoch 33/100\n",
      "548/548 [==============================] - 0s - loss: 0.2474     \n",
      "Epoch 34/100\n",
      "548/548 [==============================] - 0s - loss: 0.2472     \n",
      "Epoch 35/100\n",
      "548/548 [==============================] - 0s - loss: 0.2471     \n",
      "Epoch 36/100\n",
      "548/548 [==============================] - 0s - loss: 0.2470     \n",
      "Epoch 37/100\n",
      "548/548 [==============================] - 0s - loss: 0.2469     \n",
      "Epoch 38/100\n",
      "548/548 [==============================] - 0s - loss: 0.2467     \n",
      "Epoch 39/100\n",
      "548/548 [==============================] - 0s - loss: 0.2466     \n",
      "Epoch 40/100\n",
      "548/548 [==============================] - 0s - loss: 0.2465     \n",
      "Epoch 41/100\n",
      "548/548 [==============================] - 0s - loss: 0.2464     \n",
      "Epoch 42/100\n",
      "548/548 [==============================] - 0s - loss: 0.2463     \n",
      "Epoch 43/100\n",
      "548/548 [==============================] - 0s - loss: 0.2462     \n",
      "Epoch 44/100\n",
      "548/548 [==============================] - 0s - loss: 0.2460     \n",
      "Epoch 45/100\n",
      "548/548 [==============================] - 0s - loss: 0.2459     \n",
      "Epoch 46/100\n",
      "548/548 [==============================] - 0s - loss: 0.2458     \n",
      "Epoch 47/100\n",
      "548/548 [==============================] - 0s - loss: 0.2457     \n",
      "Epoch 48/100\n",
      "548/548 [==============================] - 0s - loss: 0.2456     \n",
      "Epoch 49/100\n",
      "548/548 [==============================] - 0s - loss: 0.2455     \n",
      "Epoch 50/100\n",
      "548/548 [==============================] - 0s - loss: 0.2454     \n",
      "Epoch 51/100\n",
      "548/548 [==============================] - 0s - loss: 0.2452     \n",
      "Epoch 52/100\n",
      "548/548 [==============================] - 0s - loss: 0.2451     \n",
      "Epoch 53/100\n",
      "548/548 [==============================] - 0s - loss: 0.2449     \n",
      "Epoch 54/100\n",
      "548/548 [==============================] - 0s - loss: 0.2448     \n",
      "Epoch 55/100\n",
      "548/548 [==============================] - 0s - loss: 0.2447     \n",
      "Epoch 56/100\n",
      "548/548 [==============================] - 0s - loss: 0.2446     \n",
      "Epoch 57/100\n",
      "548/548 [==============================] - 0s - loss: 0.2444     \n",
      "Epoch 58/100\n",
      "548/548 [==============================] - 0s - loss: 0.2443     \n",
      "Epoch 59/100\n",
      "548/548 [==============================] - 0s - loss: 0.2442     \n",
      "Epoch 60/100\n",
      "548/548 [==============================] - 0s - loss: 0.2441     \n",
      "Epoch 61/100\n",
      "548/548 [==============================] - 0s - loss: 0.2439     \n",
      "Epoch 62/100\n",
      "548/548 [==============================] - 0s - loss: 0.2438     \n",
      "Epoch 63/100\n",
      "548/548 [==============================] - 0s - loss: 0.2436     \n",
      "Epoch 64/100\n",
      "548/548 [==============================] - 0s - loss: 0.2435     \n",
      "Epoch 65/100\n",
      "548/548 [==============================] - 0s - loss: 0.2433     \n",
      "Epoch 66/100\n",
      "548/548 [==============================] - 0s - loss: 0.2432     \n",
      "Epoch 67/100\n",
      "548/548 [==============================] - 0s - loss: 0.2430     \n",
      "Epoch 68/100\n",
      "548/548 [==============================] - 0s - loss: 0.2429     \n",
      "Epoch 69/100\n",
      "548/548 [==============================] - 0s - loss: 0.2428     \n",
      "Epoch 70/100\n",
      "548/548 [==============================] - 0s - loss: 0.2426     \n",
      "Epoch 71/100\n",
      "548/548 [==============================] - 0s - loss: 0.2425     \n",
      "Epoch 72/100\n",
      "548/548 [==============================] - 0s - loss: 0.2423     \n",
      "Epoch 73/100\n",
      "548/548 [==============================] - 0s - loss: 0.2421     \n",
      "Epoch 74/100\n",
      "548/548 [==============================] - 0s - loss: 0.2420     \n",
      "Epoch 75/100\n",
      "548/548 [==============================] - 0s - loss: 0.2418     \n",
      "Epoch 76/100\n",
      "548/548 [==============================] - 0s - loss: 0.2416     \n",
      "Epoch 77/100\n",
      "548/548 [==============================] - 0s - loss: 0.2415     \n",
      "Epoch 78/100\n",
      "548/548 [==============================] - 0s - loss: 0.2413     \n",
      "Epoch 79/100\n",
      "548/548 [==============================] - 0s - loss: 0.2411     \n",
      "Epoch 80/100\n",
      "548/548 [==============================] - 0s - loss: 0.2409     \n",
      "Epoch 81/100\n",
      "548/548 [==============================] - 0s - loss: 0.2408     \n",
      "Epoch 82/100\n",
      "548/548 [==============================] - 0s - loss: 0.2406     \n",
      "Epoch 83/100\n",
      "548/548 [==============================] - 0s - loss: 0.2404     \n",
      "Epoch 84/100\n",
      "548/548 [==============================] - 0s - loss: 0.2402     \n",
      "Epoch 85/100\n",
      "548/548 [==============================] - 0s - loss: 0.2400     \n",
      "Epoch 86/100\n",
      "548/548 [==============================] - 0s - loss: 0.2398     \n",
      "Epoch 87/100\n",
      "548/548 [==============================] - 0s - loss: 0.2396     \n",
      "Epoch 88/100\n",
      "548/548 [==============================] - 0s - loss: 0.2394     \n",
      "Epoch 89/100\n",
      "548/548 [==============================] - 0s - loss: 0.2392     \n",
      "Epoch 90/100\n",
      "548/548 [==============================] - 0s - loss: 0.2389     \n",
      "Epoch 91/100\n",
      "548/548 [==============================] - 0s - loss: 0.2387     \n",
      "Epoch 92/100\n",
      "548/548 [==============================] - 0s - loss: 0.2385     \n",
      "Epoch 93/100\n",
      "548/548 [==============================] - 0s - loss: 0.2382     \n",
      "Epoch 94/100\n",
      "548/548 [==============================] - 0s - loss: 0.2380     \n",
      "Epoch 95/100\n",
      "548/548 [==============================] - 0s - loss: 0.2377     \n",
      "Epoch 96/100\n",
      "548/548 [==============================] - 0s - loss: 0.2375     \n",
      "Epoch 97/100\n",
      "548/548 [==============================] - 0s - loss: 0.2372     \n",
      "Epoch 98/100\n",
      "548/548 [==============================] - 0s - loss: 0.2370     \n",
      "Epoch 99/100\n",
      "548/548 [==============================] - 0s - loss: 0.2367     \n",
      "Epoch 100/100\n",
      "548/548 [==============================] - 0s - loss: 0.2364     \n"
     ]
    },
    {
     "data": {
      "text/plain": [
       "<keras.callbacks.History at 0x12b0eea20>"
      ]
     },
     "execution_count": 335,
     "metadata": {},
     "output_type": "execute_result"
    }
   ],
   "source": [
    "'''\n",
    "Create a neural network using Keras (faster, more flexible and probably more\n",
    "reliable that what I've written in nn_Q1.py)\n",
    "'''\n",
    "\n",
    "from keras.models import Sequential\n",
    "from keras.layers import Dense, Activation, Flatten\n",
    "from keras.layers.convolutional import Conv1D\n",
    "from keras.utils.np_utils import to_categorical\n",
    "\n",
    "rap_neg_num_sub = rap_neg_num[0:274]\n",
    "\n",
    "x = np.append(rap_pos_num, rap_neg_num_sub, axis = 0)\n",
    "y = np.array([1] * len(rap_pos_num) + [0] * len(rap_neg_num_sub))\n",
    "\n",
    "neural_net = Sequential()\n",
    "neural_net.add(Conv1D(nb_filter = 10, filter_length = 3, input_shape = (17,4)))\n",
    "neural_net.add(Flatten())\n",
    "neural_net.add(Dense(10))\n",
    "neural_net.add(Activation('relu'))\n",
    "neural_net.add(Dense(8))\n",
    "neural_net.add(Activation('sigmoid'))\n",
    "neural_net.add(Dense(1))\n",
    "neural_net.add(Activation('sigmoid'))\n",
    "\n",
    "neural_net.compile(loss='mse', optimizer='sgd')\n",
    "\n",
    "neural_net.fit(x = x, y = y, batch_size = 32, nb_epoch = 100)\n"
   ]
  },
  {
   "cell_type": "code",
   "execution_count": 336,
   "metadata": {
    "collapsed": false
   },
   "outputs": [
    {
     "name": "stdout",
     "output_type": "stream",
     "text": [
      "480/548 [=========================>....] - ETA: 0s"
     ]
    }
   ],
   "source": [
    "output = neural_net.predict_classes(x)"
   ]
  },
  {
   "cell_type": "code",
   "execution_count": 337,
   "metadata": {
    "collapsed": false
   },
   "outputs": [
    {
     "name": "stdout",
     "output_type": "stream",
     "text": [
      "0.86496350365\n",
      "0.175182481752\n"
     ]
    }
   ],
   "source": [
    "print(np.average(output[0:int(548/2)]))\n",
    "print(np.average(output[int(548/2):548]))"
   ]
  },
  {
   "cell_type": "code",
   "execution_count": 338,
   "metadata": {
    "collapsed": false
   },
   "outputs": [
    {
     "data": {
      "text/plain": [
       "array([0, 1, 1, 1, 0, 1, 1, 1, 0, 1, 1, 1, 0, 1, 1, 1, 1, 1, 1, 1, 1, 1, 0,\n",
       "       1, 1, 1, 0, 1, 1, 1, 1, 1, 1, 1, 1, 1, 1, 1, 1, 1, 1, 1, 1, 1, 1, 1,\n",
       "       0, 1, 0, 1, 1, 1, 1, 1, 1, 1, 1, 1, 1, 1, 1, 1, 1, 1, 0, 1, 1, 1, 1,\n",
       "       1, 1, 1, 1, 1, 1, 1, 1, 1, 1, 1, 1, 1, 0, 1, 1, 1, 1, 1, 1, 1, 0, 1,\n",
       "       1, 1, 0, 1, 0, 1, 1, 1, 1, 1, 1, 1, 1, 1, 1, 1, 1, 1, 0, 1, 1, 1, 1,\n",
       "       1, 1, 1, 0, 1, 1, 1, 1, 1, 1, 1, 1, 1, 1, 1, 1, 1, 1, 1, 1, 1, 1, 1,\n",
       "       1, 1, 1, 1, 1, 1, 1, 1, 1, 1, 0, 1, 1, 1, 0, 1, 1, 1, 0, 1, 0, 1, 0,\n",
       "       1, 1, 1, 0, 1, 0, 1, 0, 1, 0, 1, 1, 1, 0, 1, 1, 1, 1, 1, 1, 1, 1, 1,\n",
       "       1, 1, 1, 1, 1, 1, 0, 1, 1, 1, 1, 1, 0, 1, 1, 1, 1, 1, 0, 1, 0, 1, 1,\n",
       "       1, 1, 1, 0, 1, 1, 1, 1, 1, 1, 1, 1, 1, 1, 1, 1, 1, 1, 1, 1, 1, 1, 1,\n",
       "       0, 1, 1, 1, 0, 1, 1, 1, 1, 1, 1, 1, 0, 1, 1, 1, 1, 1, 1, 1, 1, 1, 1,\n",
       "       1, 1, 1, 0, 1, 1, 1, 0, 1, 0, 1, 1, 1, 0, 1, 1, 1, 1, 1, 1, 1, 0, 1,\n",
       "       0, 0, 0, 0, 1, 0, 0, 0, 0, 0, 0, 0, 0, 0, 0, 1, 0, 0, 0, 0, 0, 1, 0,\n",
       "       0, 1, 0, 0, 0, 0, 0, 0, 0, 1, 0, 0, 0, 1, 0, 0, 0, 0, 0, 0, 0, 0, 1,\n",
       "       0, 0, 0, 0, 0, 0, 0, 0, 1, 0, 1, 1, 0, 0, 0, 0, 0, 0, 0, 1, 0, 0, 0,\n",
       "       0, 0, 0, 0, 0, 0, 0, 0, 0, 1, 0, 0, 0, 0, 0, 0, 0, 0, 1, 0, 1, 0, 0,\n",
       "       0, 0, 0, 0, 0, 0, 0, 0, 1, 0, 0, 0, 0, 0, 0, 0, 0, 0, 0, 1, 0, 0, 0,\n",
       "       0, 0, 0, 0, 0, 0, 0, 0, 0, 0, 0, 0, 0, 0, 0, 0, 0, 0, 0, 1, 0, 1, 1,\n",
       "       1, 1, 1, 1, 0, 0, 0, 0, 0, 0, 0, 0, 0, 0, 1, 1, 0, 0, 1, 0, 0, 0, 0,\n",
       "       0, 0, 0, 0, 0, 0, 0, 0, 0, 0, 1, 0, 1, 0, 0, 0, 0, 1, 0, 0, 0, 0, 1,\n",
       "       0, 0, 0, 0, 0, 0, 1, 0, 1, 0, 0, 1, 0, 1, 0, 0, 0, 1, 0, 0, 0, 0, 1,\n",
       "       0, 0, 0, 1, 0, 0, 0, 0, 0, 0, 0, 0, 0, 0, 0, 0, 0, 0, 0, 1, 0, 1, 0,\n",
       "       0, 0, 0, 0, 0, 0, 0, 0, 0, 0, 0, 0, 0, 0, 0, 0, 0, 0, 0, 0, 1, 0, 1,\n",
       "       0, 1, 1, 0, 0, 0, 0, 1, 0, 0, 0, 0, 0, 1, 0, 1, 0, 0, 1], dtype=int32)"
      ]
     },
     "execution_count": 338,
     "metadata": {},
     "output_type": "execute_result"
    }
   ],
   "source": [
    "np.ndarray.flatten(output)"
   ]
  },
  {
   "cell_type": "code",
   "execution_count": 281,
   "metadata": {
    "collapsed": false
   },
   "outputs": [],
   "source": [
    "plt.figure(facecolor = 'white', figsize = (8,5))\n",
    "plt.imshow(x[0].T, interpolation = 'nearest', cmap = 'Greys')\n",
    "plt.yticks(range(4),['A','T','C','G'])\n",
    "plt.xticks(range(17), range(1,18))\n",
    "plt.ylabel('Nucleotide')\n",
    "plt.xlabel('Position')\n",
    "plt.title('One-Hot Encoding of Potential Binding Sites')\n",
    "plt.savefig('../output/one_hot.png')"
   ]
  },
  {
   "cell_type": "code",
   "execution_count": 280,
   "metadata": {
    "collapsed": false
   },
   "outputs": [
    {
     "data": {
      "image/png": "[encoded data removed]",
      "text/plain": [
       "<matplotlib.figure.Figure at 0x1301cd208>"
      ]
     },
     "metadata": {},
     "output_type": "display_data"
    }
   ],
   "source": [
    "x1 = np.average(rap_pos_num, axis = 0)\n",
    "x2 = np.average(x[int(len(x)/2):len(x)], axis = 0)\n",
    "\n",
    "plt.figure(facecolor = 'white', figsize = (8,6))\n",
    "plt.subplot(211)\n",
    "plt.imshow(x1.T, interpolation = 'nearest', cmap = 'inferno', vmin = 0, vmax = 0.6)\n",
    "plt.yticks(range(4),['A','T','C','G'])\n",
    "plt.xticks(range(17), range(1,18))\n",
    "plt.ylabel('Nucleotide')\n",
    "plt.xlabel('Position')\n",
    "plt.title('Nucleotide Frequencies in Rap-Binding Sites')\n",
    "plt.colorbar(shrink = 0.5, ticks = [0,0.1,0.2,0.3,0.4,0.5,0.6])\n",
    "\n",
    "plt.subplot(212)\n",
    "plt.imshow(x2.T, interpolation = 'nearest', cmap = 'inferno', vmin = 0, vmax = 0.6)\n",
    "plt.yticks(range(4),['A','T','C','G'])\n",
    "plt.xticks(range(17), range(1,18))\n",
    "plt.ylabel('Nucleotide')\n",
    "plt.xlabel('Position')\n",
    "plt.title('Nucleotide Frequencies in non Rap-Binding Sites')\n",
    "plt.colorbar(shrink = 0.5, ticks = [0,0.1,0.2,0.3,0.4,0.5,0.6])\n",
    "\n",
    "plt.tight_layout()\n",
    "plt.savefig('../output/nuc_pos_frequencies.png')"
   ]
  },
  {
   "cell_type": "code",
   "execution_count": 308,
   "metadata": {
    "collapsed": false
   },
   "outputs": [],
   "source": [
    "x = np.load('../output/x_data.npy')\n",
    "y = np.load('../output/y_data.npy')\n",
    "\n",
    "# split into equally sized training and test sets with equally represented\n",
    "# positive and negative examples (will test the effect of these numbers later)\n",
    "\n",
    "pos_ix = [i for i in range(len(y)) if y[i] == 1]\n",
    "neg_ix = [i for i in range(len(y)) if y[i] == 0]\n",
    "\n",
    "n = int(len(pos_ix)/2)\n",
    "\n",
    "train_set = pos_ix[0:n] + neg_ix[0:n]\n",
    "test_set = pos_ix[n:2*n] + neg_ix[n:2*n]\n",
    "\n",
    "x_train = x[train_set]\n",
    "y_train = y[train_set]\n",
    "\n",
    "x_test = x[test_set]\n",
    "y_test = y[test_set]"
   ]
  },
  {
   "cell_type": "code",
   "execution_count": 317,
   "metadata": {
    "collapsed": false,
    "scrolled": false
   },
   "outputs": [
    {
     "ename": "TypeError",
     "evalue": "__init__() missing 1 required positional argument: 'output_dim'",
     "output_type": "error",
     "traceback": [
      "\u001b[0;31m---------------------------------------------------------------------------\u001b[0m",
      "\u001b[0;31mTypeError\u001b[0m                                 Traceback (most recent call last)",
      "\u001b[0;32m<ipython-input-317-d6534a3669e5>\u001b[0m in \u001b[0;36m<module>\u001b[0;34m()\u001b[0m\n\u001b[1;32m     10\u001b[0m \u001b[0mmodel\u001b[0m\u001b[0;34m.\u001b[0m\u001b[0madd\u001b[0m\u001b[0;34m(\u001b[0m\u001b[0mFlatten\u001b[0m\u001b[0;34m(\u001b[0m\u001b[0;34m)\u001b[0m\u001b[0;34m)\u001b[0m\u001b[0;34m\u001b[0m\u001b[0m\n\u001b[1;32m     11\u001b[0m \u001b[0;34m\u001b[0m\u001b[0m\n\u001b[0;32m---> 12\u001b[0;31m \u001b[0mmodel\u001b[0m\u001b[0;34m.\u001b[0m\u001b[0madd\u001b[0m\u001b[0;34m(\u001b[0m\u001b[0mDense\u001b[0m\u001b[0;34m(\u001b[0m\u001b[0mactivation\u001b[0m\u001b[0;34m=\u001b[0m\u001b[0;34m\"relu\"\u001b[0m\u001b[0;34m)\u001b[0m\u001b[0;34m)\u001b[0m\u001b[0;34m\u001b[0m\u001b[0m\n\u001b[0m\u001b[1;32m     13\u001b[0m \u001b[0;34m\u001b[0m\u001b[0m\n\u001b[1;32m     14\u001b[0m \u001b[0mmodel\u001b[0m\u001b[0;34m.\u001b[0m\u001b[0madd\u001b[0m\u001b[0;34m(\u001b[0m\u001b[0mDense\u001b[0m\u001b[0;34m(\u001b[0m\u001b[0mactivation\u001b[0m\u001b[0;34m=\u001b[0m\u001b[0;34m\"sigmoid\"\u001b[0m\u001b[0;34m)\u001b[0m\u001b[0;34m)\u001b[0m\u001b[0;34m\u001b[0m\u001b[0m\n",
      "\u001b[0;31mTypeError\u001b[0m: __init__() missing 1 required positional argument: 'output_dim'"
     ]
    }
   ],
   "source": [
    "from keras.layers.convolutional import MaxPooling1D\n",
    "\n",
    "model = Sequential()\n",
    "model.add(Conv1D(input_dim=4, input_length=17, nb_filter=10,\n",
    "                 filter_length=5, border_mode=\"valid\", activation=\"relu\"))\n",
    "\n",
    "model.add(MaxPooling1D(pool_length=5, stride=5))\n",
    "\n",
    "\n",
    "model.add(Flatten())\n",
    "\n",
    "model.add(Dense(activation=\"relu\"))\n",
    "\n",
    "model.add(Dense(activation=\"sigmoid\"))\n",
    "\n",
    "\n",
    "neural_net.compile(loss='mse', optimizer='sgd')\n",
    "neural_net.fit(x = x_train, y = y_train, batch_size = 32, nb_epoch = 100)\n"
   ]
  },
  {
   "cell_type": "code",
   "execution_count": 322,
   "metadata": {
    "collapsed": false
   },
   "outputs": [
    {
     "ename": "TypeError",
     "evalue": "cannot perform reduce with flexible type",
     "output_type": "error",
     "traceback": [
      "\u001b[0;31m---------------------------------------------------------------------------\u001b[0m",
      "\u001b[0;31mTypeError\u001b[0m                                 Traceback (most recent call last)",
      "\u001b[0;32m<ipython-input-322-97ae080fbccb>\u001b[0m in \u001b[0;36m<module>\u001b[0;34m()\u001b[0m\n\u001b[0;32m----> 1\u001b[0;31m \u001b[0mkeras\u001b[0m\u001b[0;34m.\u001b[0m\u001b[0mutils\u001b[0m\u001b[0;34m.\u001b[0m\u001b[0mnp_utils\u001b[0m\u001b[0;34m.\u001b[0m\u001b[0mto_categorical\u001b[0m\u001b[0;34m(\u001b[0m\u001b[0mnp\u001b[0m\u001b[0;34m.\u001b[0m\u001b[0marray\u001b[0m\u001b[0;34m(\u001b[0m\u001b[0mrap_pos\u001b[0m\u001b[0;34m)\u001b[0m\u001b[0;34m)\u001b[0m\u001b[0;34m\u001b[0m\u001b[0m\n\u001b[0m",
      "\u001b[0;32m/usr/local/lib/python3.5/site-packages/keras/utils/np_utils.py\u001b[0m in \u001b[0;36mto_categorical\u001b[0;34m(y, nb_classes)\u001b[0m\n\u001b[1;32m     11\u001b[0m     '''\n\u001b[1;32m     12\u001b[0m     \u001b[0;32mif\u001b[0m \u001b[0;32mnot\u001b[0m \u001b[0mnb_classes\u001b[0m\u001b[0;34m:\u001b[0m\u001b[0;34m\u001b[0m\u001b[0m\n\u001b[0;32m---> 13\u001b[0;31m         \u001b[0mnb_classes\u001b[0m \u001b[0;34m=\u001b[0m \u001b[0mnp\u001b[0m\u001b[0;34m.\u001b[0m\u001b[0mmax\u001b[0m\u001b[0;34m(\u001b[0m\u001b[0my\u001b[0m\u001b[0;34m)\u001b[0m\u001b[0;34m+\u001b[0m\u001b[0;36m1\u001b[0m\u001b[0;34m\u001b[0m\u001b[0m\n\u001b[0m\u001b[1;32m     14\u001b[0m     \u001b[0mY\u001b[0m \u001b[0;34m=\u001b[0m \u001b[0mnp\u001b[0m\u001b[0;34m.\u001b[0m\u001b[0mzeros\u001b[0m\u001b[0;34m(\u001b[0m\u001b[0;34m(\u001b[0m\u001b[0mlen\u001b[0m\u001b[0;34m(\u001b[0m\u001b[0my\u001b[0m\u001b[0;34m)\u001b[0m\u001b[0;34m,\u001b[0m \u001b[0mnb_classes\u001b[0m\u001b[0;34m)\u001b[0m\u001b[0;34m)\u001b[0m\u001b[0;34m\u001b[0m\u001b[0m\n\u001b[1;32m     15\u001b[0m     \u001b[0;32mfor\u001b[0m \u001b[0mi\u001b[0m \u001b[0;32min\u001b[0m \u001b[0mrange\u001b[0m\u001b[0;34m(\u001b[0m\u001b[0mlen\u001b[0m\u001b[0;34m(\u001b[0m\u001b[0my\u001b[0m\u001b[0;34m)\u001b[0m\u001b[0;34m)\u001b[0m\u001b[0;34m:\u001b[0m\u001b[0;34m\u001b[0m\u001b[0m\n",
      "\u001b[0;32m/usr/local/lib/python3.5/site-packages/numpy/core/fromnumeric.py\u001b[0m in \u001b[0;36mamax\u001b[0;34m(a, axis, out, keepdims)\u001b[0m\n\u001b[1;32m   2295\u001b[0m     \u001b[0;32melse\u001b[0m\u001b[0;34m:\u001b[0m\u001b[0;34m\u001b[0m\u001b[0m\n\u001b[1;32m   2296\u001b[0m         return _methods._amax(a, axis=axis,\n\u001b[0;32m-> 2297\u001b[0;31m                             out=out, **kwargs)\n\u001b[0m\u001b[1;32m   2298\u001b[0m \u001b[0;34m\u001b[0m\u001b[0m\n\u001b[1;32m   2299\u001b[0m \u001b[0;34m\u001b[0m\u001b[0m\n",
      "\u001b[0;32m/usr/local/lib/python3.5/site-packages/numpy/core/_methods.py\u001b[0m in \u001b[0;36m_amax\u001b[0;34m(a, axis, out, keepdims)\u001b[0m\n\u001b[1;32m     24\u001b[0m \u001b[0;31m# small reductions\u001b[0m\u001b[0;34m\u001b[0m\u001b[0;34m\u001b[0m\u001b[0m\n\u001b[1;32m     25\u001b[0m \u001b[0;32mdef\u001b[0m \u001b[0m_amax\u001b[0m\u001b[0;34m(\u001b[0m\u001b[0ma\u001b[0m\u001b[0;34m,\u001b[0m \u001b[0maxis\u001b[0m\u001b[0;34m=\u001b[0m\u001b[0;32mNone\u001b[0m\u001b[0;34m,\u001b[0m \u001b[0mout\u001b[0m\u001b[0;34m=\u001b[0m\u001b[0;32mNone\u001b[0m\u001b[0;34m,\u001b[0m \u001b[0mkeepdims\u001b[0m\u001b[0;34m=\u001b[0m\u001b[0;32mFalse\u001b[0m\u001b[0;34m)\u001b[0m\u001b[0;34m:\u001b[0m\u001b[0;34m\u001b[0m\u001b[0m\n\u001b[0;32m---> 26\u001b[0;31m     \u001b[0;32mreturn\u001b[0m \u001b[0mumr_maximum\u001b[0m\u001b[0;34m(\u001b[0m\u001b[0ma\u001b[0m\u001b[0;34m,\u001b[0m \u001b[0maxis\u001b[0m\u001b[0;34m,\u001b[0m \u001b[0;32mNone\u001b[0m\u001b[0;34m,\u001b[0m \u001b[0mout\u001b[0m\u001b[0;34m,\u001b[0m \u001b[0mkeepdims\u001b[0m\u001b[0;34m)\u001b[0m\u001b[0;34m\u001b[0m\u001b[0m\n\u001b[0m\u001b[1;32m     27\u001b[0m \u001b[0;34m\u001b[0m\u001b[0m\n\u001b[1;32m     28\u001b[0m \u001b[0;32mdef\u001b[0m \u001b[0m_amin\u001b[0m\u001b[0;34m(\u001b[0m\u001b[0ma\u001b[0m\u001b[0;34m,\u001b[0m \u001b[0maxis\u001b[0m\u001b[0;34m=\u001b[0m\u001b[0;32mNone\u001b[0m\u001b[0;34m,\u001b[0m \u001b[0mout\u001b[0m\u001b[0;34m=\u001b[0m\u001b[0;32mNone\u001b[0m\u001b[0;34m,\u001b[0m \u001b[0mkeepdims\u001b[0m\u001b[0;34m=\u001b[0m\u001b[0;32mFalse\u001b[0m\u001b[0;34m)\u001b[0m\u001b[0;34m:\u001b[0m\u001b[0;34m\u001b[0m\u001b[0m\n",
      "\u001b[0;31mTypeError\u001b[0m: cannot perform reduce with flexible type"
     ]
    }
   ],
   "source": [
    "keras.utils.np_utils.to_categorical(np.array(rap_pos))"
   ]
  },
  {
   "cell_type": "code",
   "execution_count": 323,
   "metadata": {
    "collapsed": false
   },
   "outputs": [],
   "source": [
    "numerical_seq = {'A':0,'T':1,'C':2,'G':3}\n",
    "\n",
    "def let_to_num(a_sequence_collection):\n",
    "    n = len(a_sequence_collection)\n",
    "    num_sequence = np.zeros((n, 17, 4))\n",
    "    for i in range(n):\n",
    "        for j in range(17):\n",
    "            nuc = a_sequence_collection[i][j]\n",
    "            num_sequence[i][j] = numerical_seq[nuc]\n",
    "    return(num_sequence)\n",
    "    \n",
    "x = let_to_num(rap_pos)"
   ]
  },
  {
   "cell_type": "code",
   "execution_count": 325,
   "metadata": {
    "collapsed": false
   },
   "outputs": [
    {
     "name": "stderr",
     "output_type": "stream",
     "text": [
      "/usr/local/lib/python3.5/site-packages/keras/utils/np_utils.py:14: VisibleDeprecationWarning: using a non-integer number instead of an integer will result in an error in the future\n",
      "  Y = np.zeros((len(y), nb_classes))\n"
     ]
    },
    {
     "ename": "IndexError",
     "evalue": "arrays used as indices must be of integer (or boolean) type",
     "output_type": "error",
     "traceback": [
      "\u001b[0;31m---------------------------------------------------------------------------\u001b[0m",
      "\u001b[0;31mIndexError\u001b[0m                                Traceback (most recent call last)",
      "\u001b[0;32m<ipython-input-325-5cfa3ba58e87>\u001b[0m in \u001b[0;36m<module>\u001b[0;34m()\u001b[0m\n\u001b[0;32m----> 1\u001b[0;31m \u001b[0mkeras\u001b[0m\u001b[0;34m.\u001b[0m\u001b[0mutils\u001b[0m\u001b[0;34m.\u001b[0m\u001b[0mnp_utils\u001b[0m\u001b[0;34m.\u001b[0m\u001b[0mto_categorical\u001b[0m\u001b[0;34m(\u001b[0m\u001b[0mx\u001b[0m\u001b[0;34m)\u001b[0m\u001b[0;34m\u001b[0m\u001b[0m\n\u001b[0m",
      "\u001b[0;32m/usr/local/lib/python3.5/site-packages/keras/utils/np_utils.py\u001b[0m in \u001b[0;36mto_categorical\u001b[0;34m(y, nb_classes)\u001b[0m\n\u001b[1;32m     14\u001b[0m     \u001b[0mY\u001b[0m \u001b[0;34m=\u001b[0m \u001b[0mnp\u001b[0m\u001b[0;34m.\u001b[0m\u001b[0mzeros\u001b[0m\u001b[0;34m(\u001b[0m\u001b[0;34m(\u001b[0m\u001b[0mlen\u001b[0m\u001b[0;34m(\u001b[0m\u001b[0my\u001b[0m\u001b[0;34m)\u001b[0m\u001b[0;34m,\u001b[0m \u001b[0mnb_classes\u001b[0m\u001b[0;34m)\u001b[0m\u001b[0;34m)\u001b[0m\u001b[0;34m\u001b[0m\u001b[0m\n\u001b[1;32m     15\u001b[0m     \u001b[0;32mfor\u001b[0m \u001b[0mi\u001b[0m \u001b[0;32min\u001b[0m \u001b[0mrange\u001b[0m\u001b[0;34m(\u001b[0m\u001b[0mlen\u001b[0m\u001b[0;34m(\u001b[0m\u001b[0my\u001b[0m\u001b[0;34m)\u001b[0m\u001b[0;34m)\u001b[0m\u001b[0;34m:\u001b[0m\u001b[0;34m\u001b[0m\u001b[0m\n\u001b[0;32m---> 16\u001b[0;31m         \u001b[0mY\u001b[0m\u001b[0;34m[\u001b[0m\u001b[0mi\u001b[0m\u001b[0;34m,\u001b[0m \u001b[0my\u001b[0m\u001b[0;34m[\u001b[0m\u001b[0mi\u001b[0m\u001b[0;34m]\u001b[0m\u001b[0;34m]\u001b[0m \u001b[0;34m=\u001b[0m \u001b[0;36m1.\u001b[0m\u001b[0;34m\u001b[0m\u001b[0m\n\u001b[0m\u001b[1;32m     17\u001b[0m     \u001b[0;32mreturn\u001b[0m \u001b[0mY\u001b[0m\u001b[0;34m\u001b[0m\u001b[0m\n\u001b[1;32m     18\u001b[0m \u001b[0;34m\u001b[0m\u001b[0m\n",
      "\u001b[0;31mIndexError\u001b[0m: arrays used as indices must be of integer (or boolean) type"
     ]
    }
   ],
   "source": [
    "keras.utils.np_utils.to_categorical(x)"
   ]
  },
  {
   "cell_type": "code",
   "execution_count": 351,
   "metadata": {
    "collapsed": false
   },
   "outputs": [],
   "source": [
    "train_ix = np.random.choice(range(250), 125, replace = False)\n",
    "test_ix = np.array([i for i in range(250) if i not in train_ix])"
   ]
  },
  {
   "cell_type": "code",
   "execution_count": 352,
   "metadata": {
    "collapsed": false
   },
   "outputs": [
    {
     "data": {
      "text/plain": [
       "array([ 30,  47, 188, 218, 119,   8, 203, 209,  63,  86,  15,  25,  31,\n",
       "       244, 220, 207,   4, 153, 240,  90, 112,   0,  20, 210,   6, 139,\n",
       "        79, 122, 124,  80,  64, 102, 140,  41,  26, 164, 213, 178, 232,\n",
       "       238, 195, 167,  98, 247,  21, 117,  56, 134, 133, 230,  58,  37,\n",
       "        81, 135, 171, 126, 142, 200, 123,  50, 227, 152, 197,  44, 215,\n",
       "       181, 141,  76, 110, 231, 154, 198,  42, 148, 174, 237,  10, 121,\n",
       "       106, 170,  62,   3, 166,  89,   5, 115, 193,  82,  85,  71, 156,\n",
       "       189, 130, 161,  46, 245, 175, 204, 219, 149,  35, 224, 246, 185,\n",
       "        87, 162,  23,  16, 225, 101, 226, 150, 131,  52, 243,  91,  95,\n",
       "        55, 205,  61,  70, 136, 109, 169,   1])"
      ]
     },
     "execution_count": 352,
     "metadata": {},
     "output_type": "execute_result"
    }
   ],
   "source": [
    "train_ix"
   ]
  },
  {
   "cell_type": "code",
   "execution_count": 356,
   "metadata": {
    "collapsed": false
   },
   "outputs": [
    {
     "name": "stdout",
     "output_type": "stream",
     "text": [
      "250\n",
      "125\n"
     ]
    }
   ],
   "source": [
    "print(len([range(250)[i] for i in test_ix] + [range(250)[i] for i in test_ix]))\n",
    "print(len([range(250)[i] for i in test_ix]))\n"
   ]
  },
  {
   "cell_type": "code",
   "execution_count": 358,
   "metadata": {
    "collapsed": false
   },
   "outputs": [
    {
     "name": "stdout",
     "output_type": "stream",
     "text": [
      "[2, 4, 6, 8, 10, 12, 14, 16, 18]\n"
     ]
    }
   ],
   "source": [
    "print([i for i in range(2,20,2)])"
   ]
  },
  {
   "cell_type": "code",
   "execution_count": null,
   "metadata": {
    "collapsed": true
   },
   "outputs": [],
   "source": []
  }
 ],
 "metadata": {
  "kernelspec": {
   "display_name": "Python 3",
   "language": "python",
   "name": "python3"
  },
  "language_info": {
   "codemirror_mode": {
    "name": "ipython",
    "version": 3
   },
   "file_extension": ".py",
   "mimetype": "text/x-python",
   "name": "python",
   "nbconvert_exporter": "python",
   "pygments_lexer": "ipython3",
   "version": "3.5.2"
  }
 },
 "nbformat": 4,
 "nbformat_minor": 1
}
